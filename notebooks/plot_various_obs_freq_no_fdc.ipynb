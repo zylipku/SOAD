{
 "cells": [
  {
   "cell_type": "code",
   "execution_count": 1,
   "metadata": {},
   "outputs": [],
   "source": [
    "import os\n",
    "import sys\n",
    "\n",
    "import pandas as pd\n",
    "import torch"
   ]
  },
  {
   "cell_type": "code",
   "execution_count": 2,
   "metadata": {},
   "outputs": [],
   "source": [
    "# Add the parent directory of 'src' to sys.path if not already present\n",
    "project_root = os.path.abspath(os.path.join(os.getcwd(), \"..\"))\n",
    "if project_root not in sys.path:\n",
    "    sys.path.insert(0, project_root)\n",
    "\n",
    "import src.assimilation.assimilator  # noqa: E402\n",
    "import src.assimilation.test_configs  # noqa: E402, F401"
   ]
  },
  {
   "cell_type": "code",
   "execution_count": 3,
   "metadata": {},
   "outputs": [],
   "source": [
    "import matplotlib as mpl\n",
    "import seaborn as sns\n",
    "from matplotlib import pyplot as plt\n",
    "\n",
    "mpl.rcParams[\"text.usetex\"] = True\n",
    "mpl.rc(\"text.latex\", preamble=r\"\\usepackage{amsmath}\")"
   ]
  },
  {
   "cell_type": "code",
   "execution_count": 4,
   "metadata": {},
   "outputs": [],
   "source": [
    "SAVE_ROOT = \"../ass_results/assimilate_various_obs_freq_no_fdc\"\n",
    "\n",
    "pickle_cache_path = \"./plot_various_obs_freq_no_fdc.pkl\"\n",
    "\n",
    "read_cache = True\n",
    "\n",
    "try:\n",
    "    assert read_cache\n",
    "    results = pd.read_pickle(pickle_cache_path)\n",
    "except:  # noqa: E722\n",
    "    entries = []\n",
    "    for filename in os.listdir(SAVE_ROOT):\n",
    "        if filename.endswith(\".pt\"):\n",
    "            file_path = os.path.join(SAVE_ROOT, filename)\n",
    "            print(file_path)\n",
    "            saved_data = torch.load(file_path, weights_only=False)\n",
    "            entry = pd.DataFrame(\n",
    "                {\n",
    "                    \"obs_type\": saved_data[\"obs_type\"][0],\n",
    "                    \"method\": saved_data[\"method\"],\n",
    "                    \"rand_mask_ratio\": saved_data[\"rand_mask_ratio\"],\n",
    "                    \"seed_no\": saved_data[\"seedno\"],\n",
    "                    \"rmse\": saved_data[\"rmse\"],\n",
    "                    \"step_idx\": range(len(saved_data[\"rmse\"])),\n",
    "                    \"time_stride\": saved_data[\"time_stride\"],\n",
    "                    \"avg_rmse\": sum(saved_data[\"rmse\"]) / len(saved_data[\"rmse\"]),\n",
    "                }\n",
    "            )\n",
    "            entries.append(entry)\n",
    "    results = pd.concat(entries)\n",
    "    results.to_pickle(pickle_cache_path)"
   ]
  },
  {
   "cell_type": "code",
   "execution_count": 5,
   "metadata": {},
   "outputs": [
    {
     "data": {
      "text/html": [
       "<div>\n",
       "<style scoped>\n",
       "    .dataframe tbody tr th:only-of-type {\n",
       "        vertical-align: middle;\n",
       "    }\n",
       "\n",
       "    .dataframe tbody tr th {\n",
       "        vertical-align: top;\n",
       "    }\n",
       "\n",
       "    .dataframe thead th {\n",
       "        text-align: right;\n",
       "    }\n",
       "</style>\n",
       "<table border=\"1\" class=\"dataframe\">\n",
       "  <thead>\n",
       "    <tr style=\"text-align: right;\">\n",
       "      <th></th>\n",
       "      <th>obs_type</th>\n",
       "      <th>method</th>\n",
       "      <th>rand_mask_ratio</th>\n",
       "      <th>seed_no</th>\n",
       "      <th>rmse</th>\n",
       "      <th>step_idx</th>\n",
       "      <th>time_stride</th>\n",
       "      <th>avg_rmse</th>\n",
       "    </tr>\n",
       "  </thead>\n",
       "  <tbody>\n",
       "    <tr>\n",
       "      <th>0</th>\n",
       "      <td>vor2vel</td>\n",
       "      <td>soad</td>\n",
       "      <td>1.0</td>\n",
       "      <td>0</td>\n",
       "      <td>0.151907</td>\n",
       "      <td>0</td>\n",
       "      <td>1</td>\n",
       "      <td>0.134137</td>\n",
       "    </tr>\n",
       "    <tr>\n",
       "      <th>1</th>\n",
       "      <td>vor2vel</td>\n",
       "      <td>soad</td>\n",
       "      <td>1.0</td>\n",
       "      <td>0</td>\n",
       "      <td>0.143385</td>\n",
       "      <td>1</td>\n",
       "      <td>1</td>\n",
       "      <td>0.134137</td>\n",
       "    </tr>\n",
       "    <tr>\n",
       "      <th>2</th>\n",
       "      <td>vor2vel</td>\n",
       "      <td>soad</td>\n",
       "      <td>1.0</td>\n",
       "      <td>0</td>\n",
       "      <td>0.137011</td>\n",
       "      <td>2</td>\n",
       "      <td>1</td>\n",
       "      <td>0.134137</td>\n",
       "    </tr>\n",
       "    <tr>\n",
       "      <th>3</th>\n",
       "      <td>vor2vel</td>\n",
       "      <td>soad</td>\n",
       "      <td>1.0</td>\n",
       "      <td>0</td>\n",
       "      <td>0.132130</td>\n",
       "      <td>3</td>\n",
       "      <td>1</td>\n",
       "      <td>0.134137</td>\n",
       "    </tr>\n",
       "    <tr>\n",
       "      <th>4</th>\n",
       "      <td>vor2vel</td>\n",
       "      <td>soad</td>\n",
       "      <td>1.0</td>\n",
       "      <td>0</td>\n",
       "      <td>0.129087</td>\n",
       "      <td>4</td>\n",
       "      <td>1</td>\n",
       "      <td>0.134137</td>\n",
       "    </tr>\n",
       "    <tr>\n",
       "      <th>...</th>\n",
       "      <td>...</td>\n",
       "      <td>...</td>\n",
       "      <td>...</td>\n",
       "      <td>...</td>\n",
       "      <td>...</td>\n",
       "      <td>...</td>\n",
       "      <td>...</td>\n",
       "      <td>...</td>\n",
       "    </tr>\n",
       "    <tr>\n",
       "      <th>4</th>\n",
       "      <td>sin3x</td>\n",
       "      <td>soad</td>\n",
       "      <td>10.0</td>\n",
       "      <td>4</td>\n",
       "      <td>1.576522</td>\n",
       "      <td>4</td>\n",
       "      <td>8</td>\n",
       "      <td>1.570744</td>\n",
       "    </tr>\n",
       "    <tr>\n",
       "      <th>5</th>\n",
       "      <td>sin3x</td>\n",
       "      <td>soad</td>\n",
       "      <td>10.0</td>\n",
       "      <td>4</td>\n",
       "      <td>1.579129</td>\n",
       "      <td>5</td>\n",
       "      <td>8</td>\n",
       "      <td>1.570744</td>\n",
       "    </tr>\n",
       "    <tr>\n",
       "      <th>6</th>\n",
       "      <td>sin3x</td>\n",
       "      <td>soad</td>\n",
       "      <td>10.0</td>\n",
       "      <td>4</td>\n",
       "      <td>1.578719</td>\n",
       "      <td>6</td>\n",
       "      <td>8</td>\n",
       "      <td>1.570744</td>\n",
       "    </tr>\n",
       "    <tr>\n",
       "      <th>7</th>\n",
       "      <td>sin3x</td>\n",
       "      <td>soad</td>\n",
       "      <td>10.0</td>\n",
       "      <td>4</td>\n",
       "      <td>1.577275</td>\n",
       "      <td>7</td>\n",
       "      <td>8</td>\n",
       "      <td>1.570744</td>\n",
       "    </tr>\n",
       "    <tr>\n",
       "      <th>8</th>\n",
       "      <td>sin3x</td>\n",
       "      <td>soad</td>\n",
       "      <td>10.0</td>\n",
       "      <td>4</td>\n",
       "      <td>1.576610</td>\n",
       "      <td>8</td>\n",
       "      <td>8</td>\n",
       "      <td>1.570744</td>\n",
       "    </tr>\n",
       "  </tbody>\n",
       "</table>\n",
       "<p>3780 rows × 8 columns</p>\n",
       "</div>"
      ],
      "text/plain": [
       "   obs_type method  rand_mask_ratio  seed_no      rmse  step_idx  time_stride  \\\n",
       "0   vor2vel   soad              1.0        0  0.151907         0            1   \n",
       "1   vor2vel   soad              1.0        0  0.143385         1            1   \n",
       "2   vor2vel   soad              1.0        0  0.137011         2            1   \n",
       "3   vor2vel   soad              1.0        0  0.132130         3            1   \n",
       "4   vor2vel   soad              1.0        0  0.129087         4            1   \n",
       "..      ...    ...              ...      ...       ...       ...          ...   \n",
       "4     sin3x   soad             10.0        4  1.576522         4            8   \n",
       "5     sin3x   soad             10.0        4  1.579129         5            8   \n",
       "6     sin3x   soad             10.0        4  1.578719         6            8   \n",
       "7     sin3x   soad             10.0        4  1.577275         7            8   \n",
       "8     sin3x   soad             10.0        4  1.576610         8            8   \n",
       "\n",
       "    avg_rmse  \n",
       "0   0.134137  \n",
       "1   0.134137  \n",
       "2   0.134137  \n",
       "3   0.134137  \n",
       "4   0.134137  \n",
       "..       ...  \n",
       "4   1.570744  \n",
       "5   1.570744  \n",
       "6   1.570744  \n",
       "7   1.570744  \n",
       "8   1.570744  \n",
       "\n",
       "[3780 rows x 8 columns]"
      ]
     },
     "execution_count": 5,
     "metadata": {},
     "output_type": "execute_result"
    }
   ],
   "source": [
    "results"
   ]
  },
  {
   "cell_type": "code",
   "execution_count": 6,
   "metadata": {},
   "outputs": [
    {
     "name": "stdout",
     "output_type": "stream",
     "text": [
      "obs_type : ['arctan3x', 'sin3x', 'vor2vel']\n",
      "method : ['soad']\n",
      "rand_mask_ratio : [np.float64(0.01), np.float64(0.0625), np.float64(0.25), np.float64(1.0), np.float64(2.0), np.float64(4.0), np.float64(10.0)]\n",
      "time_stride : [np.int64(1), np.int64(2), np.int64(4), np.int64(8)]\n",
      "seed_no : [np.int64(0), np.int64(1), np.int64(2), np.int64(3), np.int64(4)]\n"
     ]
    }
   ],
   "source": [
    "count_keys = [\"obs_type\", \"method\", \"rand_mask_ratio\", \"time_stride\", \"seed_no\"]\n",
    "for key in count_keys:\n",
    "    print(key, \":\", sorted(results[key].unique()))"
   ]
  },
  {
   "cell_type": "code",
   "execution_count": 7,
   "metadata": {},
   "outputs": [],
   "source": [
    "df = results"
   ]
  },
  {
   "cell_type": "code",
   "execution_count": 8,
   "metadata": {},
   "outputs": [],
   "source": [
    "arctan3x = df[df[\"obs_type\"] == \"arctan3x\"]\n",
    "sin3x = df[df[\"obs_type\"] == \"sin3x\"]\n",
    "vor2vel = df[df[\"obs_type\"] == \"vor2vel\"]"
   ]
  },
  {
   "cell_type": "code",
   "execution_count": 9,
   "metadata": {},
   "outputs": [],
   "source": [
    "arctan3x_sda = arctan3x[arctan3x[\"method\"] == \"sda\"]\n",
    "arctan3x_soad = arctan3x[arctan3x[\"method\"] == \"soad\"]\n",
    "\n",
    "sin3x_sda = sin3x[sin3x[\"method\"] == \"sda\"]\n",
    "sin3x_soad = sin3x[sin3x[\"method\"] == \"soad\"]\n",
    "\n",
    "vor2vel_sda = vor2vel[vor2vel[\"method\"] == \"sda\"]\n",
    "vor2vel_soad = vor2vel[vor2vel[\"method\"] == \"soad\"]"
   ]
  },
  {
   "cell_type": "code",
   "execution_count": 10,
   "metadata": {},
   "outputs": [],
   "source": [
    "palette = [\"#420802\", \"#822E24\", \"#C27067\", \"#FFCDC7\"]\n",
    "palette = [\"#42040B\", \"#822833\", \"#C26D76\", \"#FFCFD4\"]\n",
    "palette = [\"#2A3332\", \"#37615C\", \"#33A194\", \"#0FE0C8\"]\n",
    "palette = [\"#0D3320\", \"#306149\", \"#78A18D\", \"#B4E0CA\"]\n",
    "palette = [\"#072433\", \"#244D61\", \"#648CA1\", \"#D1DBE0\"]\n",
    "palette = [\"#060933\", \"#242861\", \"#6468A1\", \"#D1D2E0\"]\n",
    "palette = [\"#7B7AD6\", \"#E08D89\", \"#E0D189\", \"#89E1AB\"]\n",
    "# palette = ['#8CB1FF', '#FF82B9', '#FFDC8C', '#8DFF91']\n",
    "palette = sns.palettes.color_palette(palette)"
   ]
  },
  {
   "cell_type": "code",
   "execution_count": 11,
   "metadata": {},
   "outputs": [
    {
     "data": {
      "text/html": [
       "<div>\n",
       "<style scoped>\n",
       "    .dataframe tbody tr th:only-of-type {\n",
       "        vertical-align: middle;\n",
       "    }\n",
       "\n",
       "    .dataframe tbody tr th {\n",
       "        vertical-align: top;\n",
       "    }\n",
       "\n",
       "    .dataframe thead tr th {\n",
       "        text-align: left;\n",
       "    }\n",
       "\n",
       "    .dataframe thead tr:last-of-type th {\n",
       "        text-align: right;\n",
       "    }\n",
       "</style>\n",
       "<table border=\"1\" class=\"dataframe\">\n",
       "  <thead>\n",
       "    <tr>\n",
       "      <th></th>\n",
       "      <th></th>\n",
       "      <th></th>\n",
       "      <th colspan=\"2\" halign=\"left\">rmse</th>\n",
       "    </tr>\n",
       "    <tr>\n",
       "      <th></th>\n",
       "      <th></th>\n",
       "      <th></th>\n",
       "      <th>mean</th>\n",
       "      <th>std</th>\n",
       "    </tr>\n",
       "    <tr>\n",
       "      <th>rand_mask_ratio</th>\n",
       "      <th>step_idx</th>\n",
       "      <th>time_stride</th>\n",
       "      <th></th>\n",
       "      <th></th>\n",
       "    </tr>\n",
       "  </thead>\n",
       "  <tbody>\n",
       "    <tr>\n",
       "      <th rowspan=\"5\" valign=\"top\">0.01</th>\n",
       "      <th rowspan=\"4\" valign=\"top\">0</th>\n",
       "      <th>1</th>\n",
       "      <td>0.910334</td>\n",
       "      <td>0.028156</td>\n",
       "    </tr>\n",
       "    <tr>\n",
       "      <th>2</th>\n",
       "      <td>0.956701</td>\n",
       "      <td>0.028145</td>\n",
       "    </tr>\n",
       "    <tr>\n",
       "      <th>4</th>\n",
       "      <td>1.000157</td>\n",
       "      <td>0.024806</td>\n",
       "    </tr>\n",
       "    <tr>\n",
       "      <th>8</th>\n",
       "      <td>1.046661</td>\n",
       "      <td>0.020291</td>\n",
       "    </tr>\n",
       "    <tr>\n",
       "      <th>1</th>\n",
       "      <th>1</th>\n",
       "      <td>0.907302</td>\n",
       "      <td>0.028885</td>\n",
       "    </tr>\n",
       "    <tr>\n",
       "      <th>...</th>\n",
       "      <th>...</th>\n",
       "      <th>...</th>\n",
       "      <td>...</td>\n",
       "      <td>...</td>\n",
       "    </tr>\n",
       "    <tr>\n",
       "      <th rowspan=\"5\" valign=\"top\">10.00</th>\n",
       "      <th>7</th>\n",
       "      <th>8</th>\n",
       "      <td>0.923887</td>\n",
       "      <td>0.004731</td>\n",
       "    </tr>\n",
       "    <tr>\n",
       "      <th rowspan=\"4\" valign=\"top\">8</th>\n",
       "      <th>1</th>\n",
       "      <td>0.779337</td>\n",
       "      <td>0.007366</td>\n",
       "    </tr>\n",
       "    <tr>\n",
       "      <th>2</th>\n",
       "      <td>0.835785</td>\n",
       "      <td>0.005717</td>\n",
       "    </tr>\n",
       "    <tr>\n",
       "      <th>4</th>\n",
       "      <td>0.884166</td>\n",
       "      <td>0.007581</td>\n",
       "    </tr>\n",
       "    <tr>\n",
       "      <th>8</th>\n",
       "      <td>0.928046</td>\n",
       "      <td>0.003750</td>\n",
       "    </tr>\n",
       "  </tbody>\n",
       "</table>\n",
       "<p>252 rows × 2 columns</p>\n",
       "</div>"
      ],
      "text/plain": [
       "                                          rmse          \n",
       "                                          mean       std\n",
       "rand_mask_ratio step_idx time_stride                    \n",
       "0.01            0        1            0.910334  0.028156\n",
       "                         2            0.956701  0.028145\n",
       "                         4            1.000157  0.024806\n",
       "                         8            1.046661  0.020291\n",
       "                1        1            0.907302  0.028885\n",
       "...                                        ...       ...\n",
       "10.00           7        8            0.923887  0.004731\n",
       "                8        1            0.779337  0.007366\n",
       "                         2            0.835785  0.005717\n",
       "                         4            0.884166  0.007581\n",
       "                         8            0.928046  0.003750\n",
       "\n",
       "[252 rows x 2 columns]"
      ]
     },
     "execution_count": 11,
     "metadata": {},
     "output_type": "execute_result"
    }
   ],
   "source": [
    "grouped = arctan3x.groupby([\"rand_mask_ratio\", \"step_idx\", \"time_stride\"])\n",
    "f = grouped.agg({\"rmse\": [\"mean\", \"std\"]})\n",
    "f"
   ]
  },
  {
   "cell_type": "code",
   "execution_count": 12,
   "metadata": {},
   "outputs": [],
   "source": [
    "def plot_avg_cases(x: pd.DataFrame, save_path: str):\n",
    "    grouped = x.groupby([\"rand_mask_ratio\", \"step_idx\", \"time_stride\"])\n",
    "    f = grouped.agg({\"rmse\": [\"mean\", \"std\"]})\n",
    "    ff = f.groupby([\"rand_mask_ratio\", \"time_stride\"]).mean()\n",
    "    ff = ff.reset_index()\n",
    "    df_pivot = ff.pivot_table(index=\"rand_mask_ratio\", columns=\"time_stride\", values=\"rmse\").drop(columns=\"std\")\n",
    "    print(df_pivot)\n",
    "\n",
    "    vmin, vmax = (0.05, 0.5)  # if 'arctan' in save_path else (0., 1.)\n",
    "\n",
    "    cmap = sns.color_palette(\"Blues\", as_cmap=True)\n",
    "    cmap.set_over(\"slategray\")\n",
    "\n",
    "    ax = sns.heatmap(\n",
    "        df_pivot,\n",
    "        annot=True,\n",
    "        annot_kws={\"size\": 12},\n",
    "        fmt=\".3f\",\n",
    "        linewidths=0.5,\n",
    "        cmap=cmap,\n",
    "        vmin=vmin,\n",
    "        vmax=vmax,\n",
    "        cbar_kws={\"extend\": \"max\", \"label\": \"RMSE\"},\n",
    "    )\n",
    "\n",
    "    ax.set_yticklabels([\"$p=0.01$\", \"$p=0.0625$\", \"$p=0.25$\", \"$s=p=1$\", \"$s=2$\", \"$s=4$\", \"$s=10$\"], rotation=0)\n",
    "    ax.set_xticklabels([\"$N=1$\", \"$N=2$\", \"$N=4$\", \"$N=8$\"], rotation=45)\n",
    "    ax.set_ylabel(\"\")\n",
    "    ax.set_xlabel(\"\")\n",
    "    plt.savefig(save_path)"
   ]
  },
  {
   "cell_type": "code",
   "execution_count": 13,
   "metadata": {},
   "outputs": [
    {
     "name": "stdout",
     "output_type": "stream",
     "text": [
      "                     mean                              \n",
      "time_stride             1         2         4         8\n",
      "rand_mask_ratio                                        \n",
      "0.0100           0.908271  0.955069  0.998155  1.043564\n",
      "0.0625           0.451855  0.518295  0.578584  0.631838\n",
      "0.2500           0.258798  0.313658  0.374764  0.431719\n",
      "1.0000           0.154861  0.181860  0.215303  0.256393\n",
      "2.0000           0.249240  0.304159  0.362245  0.420143\n",
      "4.0000           0.426584  0.496583  0.559532  0.611357\n",
      "10.0000          0.765717  0.821896  0.873164  0.918907\n"
     ]
    },
    {
     "name": "stderr",
     "output_type": "stream",
     "text": [
      "/tmp/ipykernel_673582/1833239447.py:6: PerformanceWarning: dropping on a non-lexsorted multi-index without a level parameter may impact performance.\n",
      "  df_pivot = ff.pivot_table(index=\"rand_mask_ratio\", columns=\"time_stride\", values=\"rmse\").drop(columns=\"std\")\n"
     ]
    },
    {
     "data": {
      "image/png": "[encoded data removed]",
      "text/plain": [
       "<Figure size 640x480 with 2 Axes>"
      ]
     },
     "metadata": {},
     "output_type": "display_data"
    }
   ],
   "source": [
    "plot_avg_cases(arctan3x_soad, save_path=\"../figs/assimilate_with_prior_arctan3x_soad_no_fdc_heatmap.pdf\")"
   ]
  },
  {
   "cell_type": "code",
   "execution_count": 14,
   "metadata": {},
   "outputs": [
    {
     "name": "stderr",
     "output_type": "stream",
     "text": [
      "/tmp/ipykernel_673582/1833239447.py:6: PerformanceWarning: dropping on a non-lexsorted multi-index without a level parameter may impact performance.\n",
      "  df_pivot = ff.pivot_table(index=\"rand_mask_ratio\", columns=\"time_stride\", values=\"rmse\").drop(columns=\"std\")\n"
     ]
    },
    {
     "name": "stdout",
     "output_type": "stream",
     "text": [
      "                     mean                              \n",
      "time_stride             1         2         4         8\n",
      "rand_mask_ratio                                        \n",
      "0.0100           1.471831  1.488998  1.518988  1.525403\n",
      "0.0625           1.295660  1.382689  1.454407  1.506164\n",
      "0.2500           0.824169  0.995474  1.158186  1.320980\n",
      "1.0000           0.702747  0.456182  0.634947  0.902521\n",
      "2.0000           0.739602  0.978228  1.156605  1.303745\n",
      "4.0000           1.299798  1.414727  1.494558  1.548198\n",
      "10.0000          1.493052  1.518195  1.526304  1.533627\n"
     ]
    },
    {
     "data": {
      "image/png": "[encoded data removed]",
      "text/plain": [
       "<Figure size 640x480 with 2 Axes>"
      ]
     },
     "metadata": {},
     "output_type": "display_data"
    }
   ],
   "source": [
    "plot_avg_cases(sin3x_soad, save_path=\"../figs/assimilate_with_prior_sin3x_soad_no_fdc_heatmap.pdf\")"
   ]
  },
  {
   "cell_type": "code",
   "execution_count": 15,
   "metadata": {},
   "outputs": [
    {
     "name": "stderr",
     "output_type": "stream",
     "text": [
      "/tmp/ipykernel_673582/1833239447.py:6: PerformanceWarning: dropping on a non-lexsorted multi-index without a level parameter may impact performance.\n",
      "  df_pivot = ff.pivot_table(index=\"rand_mask_ratio\", columns=\"time_stride\", values=\"rmse\").drop(columns=\"std\")\n"
     ]
    },
    {
     "name": "stdout",
     "output_type": "stream",
     "text": [
      "                     mean                              \n",
      "time_stride             1         2         4         8\n",
      "rand_mask_ratio                                        \n",
      "0.0100           0.534703  0.593152  0.650969  0.712124\n",
      "0.0625           0.293757  0.341363  0.392419  0.437436\n",
      "0.2500           0.193669  0.224276  0.257851  0.290023\n",
      "1.0000           0.134714  0.155307  0.176071  0.197043\n",
      "2.0000           0.190708  0.221663  0.255409  0.287964\n",
      "4.0000           0.283236  0.332817  0.384827  0.430535\n",
      "10.0000          0.491998  0.555599  0.617887  0.672812\n"
     ]
    },
    {
     "data": {
      "image/png": "[encoded data removed]",
      "text/plain": [
       "<Figure size 640x480 with 2 Axes>"
      ]
     },
     "metadata": {},
     "output_type": "display_data"
    }
   ],
   "source": [
    "plot_avg_cases(vor2vel_soad, save_path=\"../figs/assimilate_with_prior_vor2vel_soad_no_fdc_heatmap.pdf\")"
   ]
  }
 ],
 "metadata": {
  "kernelspec": {
   "display_name": ".venv",
   "language": "python",
   "name": "python3"
  },
  "language_info": {
   "codemirror_mode": {
    "name": "ipython",
    "version": 3
   },
   "file_extension": ".py",
   "mimetype": "text/x-python",
   "name": "python",
   "nbconvert_exporter": "python",
   "pygments_lexer": "ipython3",
   "version": "3.12.10"
  }
 },
 "nbformat": 4,
 "nbformat_minor": 2
}
